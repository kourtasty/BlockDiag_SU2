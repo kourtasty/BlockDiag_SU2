{
 "cells": [
  {
   "cell_type": "code",
   "execution_count": 1,
   "id": "25c120c3-a170-4c9f-befe-006ae99de938",
   "metadata": {
    "execution": {
     "iopub.execute_input": "2024-06-22T15:01:34.598203Z",
     "iopub.status.busy": "2024-06-22T15:01:34.597324Z",
     "iopub.status.idle": "2024-06-22T15:01:34.931293Z",
     "shell.execute_reply": "2024-06-22T15:01:34.929813Z",
     "shell.execute_reply.started": "2024-06-22T15:01:34.598100Z"
    },
    "tags": []
   },
   "outputs": [],
   "source": [
    "import numpy as np"
   ]
  },
  {
   "cell_type": "markdown",
   "id": "9878b259-ef33-4444-b01b-ac59ada9a5c4",
   "metadata": {
    "execution": {
     "iopub.execute_input": "2024-06-22T13:52:36.734019Z",
     "iopub.status.busy": "2024-06-22T13:52:36.733357Z",
     "iopub.status.idle": "2024-06-22T13:52:36.996852Z",
     "shell.execute_reply": "2024-06-22T13:52:36.995067Z",
     "shell.execute_reply.started": "2024-06-22T13:52:36.733961Z"
    },
    "tags": []
   },
   "source": [
    "In this Notebook we will show that the tensor product representation of $SU(2)$\n",
    "\\begin{equation}\n",
    "    R(g) = U_g \\otimes U_g\n",
    "\\end{equation}\n",
    "can be decomposed in a direct sum (i.e. is block-digonalized) when expressed in the basis of bosonic and fermionic states."
   ]
  },
  {
   "cell_type": "markdown",
   "id": "dc896d4a-1368-4eab-b8dd-c01f37981746",
   "metadata": {
    "execution": {
     "iopub.execute_input": "2024-06-22T13:52:36.734019Z",
     "iopub.status.busy": "2024-06-22T13:52:36.733357Z",
     "iopub.status.idle": "2024-06-22T13:52:36.996852Z",
     "shell.execute_reply": "2024-06-22T13:52:36.995067Z",
     "shell.execute_reply.started": "2024-06-22T13:52:36.733961Z"
    },
    "tags": []
   },
   "source": [
    "We start by defining the basis set in which we will express $R(g)$:\n",
    "\\begin{equation}\n",
    "    \\mathcal{B} = \\left\\{ |00\\rangle, |01\\rangle + |10\\rangle, |11\\rangle, |10\\rangle-|01\\rangle  \\right\\}\n",
    "\\end{equation}\n",
    "where the first three kets are the bosonic states and the last ket is the fermionic one."
   ]
  },
  {
   "cell_type": "code",
   "execution_count": 2,
   "id": "9d9c2a7d-20b1-46fc-a88d-c8cb060494d9",
   "metadata": {
    "execution": {
     "iopub.execute_input": "2024-06-22T15:01:34.935137Z",
     "iopub.status.busy": "2024-06-22T15:01:34.934450Z",
     "iopub.status.idle": "2024-06-22T15:01:34.943917Z",
     "shell.execute_reply": "2024-06-22T15:01:34.942550Z",
     "shell.execute_reply.started": "2024-06-22T15:01:34.935099Z"
    },
    "tags": []
   },
   "outputs": [],
   "source": [
    "# Define one-particle states\n",
    "ket0 = np.array([1, 0])\n",
    "ket1 = np.array([0, 1])\n",
    "\n",
    "# Define combined states\n",
    "ket00 = np.kron(ket0, ket0)\n",
    "ket01 = np.kron(ket0, ket1)\n",
    "ket10 = np.kron(ket1, ket0)\n",
    "ket11 = np.kron(ket1, ket1)\n",
    "\n",
    "# Define bosonic and fermionic states as a basis\n",
    "Basis = [\n",
    "    ket00,\n",
    "    (1/np.sqrt(2)) * (ket01 + ket10),\n",
    "    ket11,\n",
    "    (1/np.sqrt(2)) * (ket01 - ket10)\n",
    "]"
   ]
  },
  {
   "cell_type": "markdown",
   "id": "2e4e6843-c1b2-471d-a584-2f0df980e0d9",
   "metadata": {
    "execution": {
     "iopub.execute_input": "2024-06-22T13:52:39.033158Z",
     "iopub.status.busy": "2024-06-22T13:52:39.032400Z",
     "iopub.status.idle": "2024-06-22T13:52:39.045659Z",
     "shell.execute_reply": "2024-06-22T13:52:39.043885Z",
     "shell.execute_reply.started": "2024-06-22T13:52:39.033097Z"
    },
    "tags": []
   },
   "source": [
    "We now need to define a representation of $SU(2)$, we will choose the canonical one:\n",
    "\\begin{equation}\n",
    "    U_g := \\begin{bmatrix}\n",
    "    \\cos\\theta & e^{-i\\phi}\\sin\\theta\\\\\n",
    "    e^{i\\phi}\\sin\\theta & -\\cos\\theta\n",
    "    \\end{bmatrix}\n",
    "    = \\vec{n} \\cdot \\vec{\\sigma},\n",
    "\\end{equation}\n",
    "where $\\vec{n}$ is the unit vector of the 2-sphere and $\\vec{\\sigma} = (\\sigma_x, \\sigma_y, \\sigma_z)$ is Pauli vector."
   ]
  },
  {
   "cell_type": "code",
   "execution_count": 3,
   "id": "33297be8-deb6-451b-8851-f7f1ab8e9e29",
   "metadata": {
    "execution": {
     "iopub.execute_input": "2024-06-22T15:01:34.945651Z",
     "iopub.status.busy": "2024-06-22T15:01:34.945273Z",
     "iopub.status.idle": "2024-06-22T15:01:34.987382Z",
     "shell.execute_reply": "2024-06-22T15:01:34.985420Z",
     "shell.execute_reply.started": "2024-06-22T15:01:34.945621Z"
    },
    "tags": []
   },
   "outputs": [],
   "source": [
    "# Define Pauli matrices, representation of SU(2)\n",
    "def sigma_n(theta=0, phi=0):\n",
    "    # define pauli matrices\n",
    "    sigma_x = np.array([[0, 1],\n",
    "                        [1, 0]], dtype=complex)\n",
    "    sigma_y = np.array([[0, -1j],\n",
    "                        [1j, 0]], dtype=complex)\n",
    "    sigma_z = np.array([[1, 0],\n",
    "                        [0, -1]], dtype=complex)\n",
    "    \n",
    "    # define unit vector of the 2-sphere\n",
    "    n = np.array([np.sin(theta) * np.cos(phi), np.sin(theta) * np.sin(phi), np.cos(theta)])\n",
    "    \n",
    "    # return the matrix of the Bloch Sphere\n",
    "    return n[0] * sigma_x + n[1] * sigma_y + n[2] * sigma_z"
   ]
  },
  {
   "cell_type": "markdown",
   "id": "06a570bc-0595-49d7-8b3d-13f2a1cf2e44",
   "metadata": {},
   "source": [
    "Below we compute $R(g)=U_g \\otimes U_g$, which is in the basis $\\left\\{ |00\\rangle, |01\\rangle, |10\\rangle, |11\\rangle \\right\\}$. \n",
    "\n",
    "We then recompute in the the bosonic-fermionic basis $\\left\\{ |00\\rangle, |01\\rangle + |10\\rangle, |11\\rangle, |10\\rangle-|01\\rangle  \\right\\}$ by computing each matrix element as\n",
    "\\begin{equation}\n",
    "    R(g)_{\\text{nb}, ij} = \\langle i |R(g)_{ij} | j \\rangle\n",
    "\\end{equation}\n",
    "\n",
    "and we show how it block-diagonalized $R(g)$.\n",
    "\n",
    "The values of $\\theta$ and $\\phi$ are inputs in the code below."
   ]
  },
  {
   "cell_type": "code",
   "execution_count": 4,
   "id": "1f7317d8-e0ed-4eb1-a728-56ea01fca193",
   "metadata": {
    "execution": {
     "iopub.execute_input": "2024-06-22T15:01:34.989989Z",
     "iopub.status.busy": "2024-06-22T15:01:34.989428Z",
     "iopub.status.idle": "2024-06-22T15:01:35.040033Z",
     "shell.execute_reply": "2024-06-22T15:01:35.037787Z",
     "shell.execute_reply.started": "2024-06-22T15:01:34.989917Z"
    },
    "tags": []
   },
   "outputs": [
    {
     "name": "stdout",
     "output_type": "stream",
     "text": [
      "R(g) = \n",
      "[[ 0.9045+0.j -0.2939-0.j -0.2939-0.j  0.0955+0.j]\n",
      " [-0.2939+0.j -0.9045+0.j  0.0955+0.j  0.2939+0.j]\n",
      " [-0.2939+0.j  0.0955+0.j -0.9045+0.j  0.2939+0.j]\n",
      " [ 0.0955-0.j  0.2939-0.j  0.2939-0.j  0.9045-0.j]]\n",
      "----------------------------------------------------\n",
      "R(g)_nb = \n",
      "[[ 0.9045+0.j -0.4156-0.j  0.0955+0.j  0.    +0.j]\n",
      " [-0.4156+0.j -0.809 +0.j  0.4156+0.j  0.    +0.j]\n",
      " [ 0.0955-0.j  0.4156-0.j  0.9045+0.j  0.    +0.j]\n",
      " [ 0.    +0.j  0.    +0.j  0.    +0.j -1.    +0.j]]\n"
     ]
    }
   ],
   "source": [
    "# input values of theta and phi. \n",
    "# This cell can be modified to test different values of theta and phi.\n",
    "theta = 0.1*np.pi \n",
    "phi  = np.pi\n",
    "\n",
    "# Define the representation R(g) = U(g) \\otimes U(g).\n",
    "U_g = sigma_n(theta, phi)\n",
    "Rg = np.kron(U_g, U_g)\n",
    "\n",
    "# Define R(g) in new basis, i.e. Rg_nb\n",
    "Rg_nb = np.zeros((4, 4), dtype=complex)\n",
    "# Compute the matrix elements in the new basis\n",
    "for i in range(4):\n",
    "    for j in range(4):\n",
    "        bra = Basis[i]\n",
    "        ket = Basis[j]\n",
    "        Rg_nb[i, j] = np.vdot(bra, np.dot(Rg, ket))\n",
    "\n",
    "# Print the matrix\n",
    "print(\"R(g) = \")\n",
    "print(Rg.round(decimals=4))\n",
    "print(\"----------------------------------------------------\")\n",
    "print(\"R(g)_nb = \")\n",
    "print(Rg_nb.round(decimals=4))"
   ]
  }
 ],
 "metadata": {
  "kernelspec": {
   "display_name": "Python3",
   "language": "python",
   "name": "python3"
  },
  "language_info": {
   "codemirror_mode": {
    "name": "ipython",
    "version": 3
   },
   "file_extension": ".py",
   "mimetype": "text/x-python",
   "name": "python",
   "nbconvert_exporter": "python",
   "pygments_lexer": "ipython3",
   "version": "3.11.5"
  }
 },
 "nbformat": 4,
 "nbformat_minor": 5
}
